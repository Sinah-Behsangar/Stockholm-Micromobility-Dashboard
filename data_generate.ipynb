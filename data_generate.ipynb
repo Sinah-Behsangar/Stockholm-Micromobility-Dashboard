{
 "cells": [
  {
   "cell_type": "code",
   "execution_count": 4,
   "id": "bcb710b6",
   "metadata": {},
   "outputs": [
    {
     "name": "stdout",
     "output_type": "stream",
     "text": [
      "Collecting faker\n",
      "  Downloading faker-37.4.0-py3-none-any.whl.metadata (15 kB)\n",
      "Requirement already satisfied: tzdata in c:\\users\\sinah\\appdata\\local\\programs\\python\\python312\\lib\\site-packages (from faker) (2024.1)\n",
      "Downloading faker-37.4.0-py3-none-any.whl (1.9 MB)\n",
      "   ---------------------------------------- 0.0/1.9 MB ? eta -:--:--\n",
      "    --------------------------------------- 0.0/1.9 MB 660.6 kB/s eta 0:00:03\n",
      "   -- ------------------------------------- 0.1/1.9 MB 1.3 MB/s eta 0:00:02\n",
      "   ------- -------------------------------- 0.4/1.9 MB 2.8 MB/s eta 0:00:01\n",
      "   ---------------- ----------------------- 0.8/1.9 MB 4.6 MB/s eta 0:00:01\n",
      "   -------------------- ------------------- 1.0/1.9 MB 4.9 MB/s eta 0:00:01\n",
      "   --------------------------------- ------ 1.6/1.9 MB 6.2 MB/s eta 0:00:01\n",
      "   ---------------------------------------- 1.9/1.9 MB 6.5 MB/s eta 0:00:00\n",
      "Installing collected packages: faker\n",
      "Successfully installed faker-37.4.0\n",
      "Note: you may need to restart the kernel to use updated packages.\n"
     ]
    },
    {
     "name": "stderr",
     "output_type": "stream",
     "text": [
      "  WARNING: The script faker.exe is installed in 'c:\\Users\\Sinah\\AppData\\Local\\Programs\\Python\\Python312\\Scripts' which is not on PATH.\n",
      "  Consider adding this directory to PATH or, if you prefer to suppress this warning, use --no-warn-script-location.\n",
      "\n",
      "[notice] A new release of pip is available: 24.0 -> 25.1.1\n",
      "[notice] To update, run: python.exe -m pip install --upgrade pip\n"
     ]
    }
   ],
   "source": [
    "pip install faker"
   ]
  },
  {
   "cell_type": "code",
   "execution_count": 5,
   "id": "705e877b",
   "metadata": {},
   "outputs": [
    {
     "name": "stderr",
     "output_type": "stream",
     "text": [
      "C:\\Users\\Sinah\\AppData\\Local\\Temp\\ipykernel_25596\\1637182534.py:23: FutureWarning: 'T' is deprecated and will be removed in a future version, please use 'min' instead.\n",
      "  \"start_time\": pd.date_range(\"2024-06-01\", periods=n, freq=\"T\"),\n"
     ]
    }
   ],
   "source": [
    "import pandas as pd\n",
    "import numpy as np\n",
    "from faker import Faker\n",
    "import random\n",
    "\n",
    "# Initialize Faker and seed for reproducibility\n",
    "fake = Faker()\n",
    "np.random.seed(42)\n",
    "random.seed(42)\n",
    "\n",
    "# Number of synthetic rides\n",
    "n = 5000\n",
    "\n",
    "# Simulated Stockholm zones\n",
    "zones = [\n",
    "    \"Södermalm\", \"Kungsholmen\", \"Norrmalm\", \"Östermalm\", \"Vasastan\",\n",
    "    \"Gamla Stan\", \"Hägersten\", \"Bromma\", \"Enskede\", \"Liljeholmen\"\n",
    "]\n",
    "\n",
    "# Generate basic fields\n",
    "rides = pd.DataFrame({\n",
    "    \"ride_id\": [fake.uuid4() for _ in range(n)],\n",
    "    \"start_time\": pd.date_range(\"2024-06-01\", periods=n, freq=\"T\"),\n",
    "})\n",
    "\n",
    "# Add trip duration (in minutes)\n",
    "rides[\"duration_minutes\"] = np.random.randint(3, 26, size=n)\n",
    "\n",
    "# Calculate end time based on duration\n",
    "rides[\"end_time\"] = rides[\"start_time\"] + pd.to_timedelta(rides[\"duration_minutes\"], unit='m')\n",
    "\n",
    "# Simulate start and end zones\n",
    "rides[\"start_zone\"] = np.random.choice(zones, size=n)\n",
    "rides[\"end_zone\"] = np.random.choice(zones, size=n)\n",
    "\n",
    "# Estimate distance (0.1–0.3 km per minute)\n",
    "rides[\"distance_km\"] = (rides[\"duration_minutes\"] * np.random.uniform(0.1, 0.3, size=n)).round(2)\n",
    "\n",
    "# Assign user type (casual vs. subscriber)\n",
    "rides[\"user_type\"] = np.random.choice([\"casual\", \"subscriber\"], size=n, p=[0.4, 0.6])\n",
    "\n",
    "# Add time-based features\n",
    "rides[\"day_of_week\"] = rides[\"start_time\"].dt.day_name()\n",
    "rides[\"hour\"] = rides[\"start_time\"].dt.hour\n",
    "\n",
    "# Save to CSV\n",
    "rides.to_csv(\"voi_rides_stockholm.csv\", index=False)\n"
   ]
  }
 ],
 "metadata": {
  "kernelspec": {
   "display_name": "Python 3",
   "language": "python",
   "name": "python3"
  },
  "language_info": {
   "codemirror_mode": {
    "name": "ipython",
    "version": 3
   },
   "file_extension": ".py",
   "mimetype": "text/x-python",
   "name": "python",
   "nbconvert_exporter": "python",
   "pygments_lexer": "ipython3",
   "version": "3.12.2"
  }
 },
 "nbformat": 4,
 "nbformat_minor": 5
}
