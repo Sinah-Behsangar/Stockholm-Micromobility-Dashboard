{
 "cells": [
  {
   "cell_type": "code",
   "execution_count": null,
   "id": "748b9ea5",
   "metadata": {},
   "outputs": [
    {
     "name": "stdout",
     "output_type": "stream",
     "text": [
      "(5000, 10)\n"
     ]
    },
    {
     "data": {
      "text/html": [
       "<div>\n",
       "<style scoped>\n",
       "    .dataframe tbody tr th:only-of-type {\n",
       "        vertical-align: middle;\n",
       "    }\n",
       "\n",
       "    .dataframe tbody tr th {\n",
       "        vertical-align: top;\n",
       "    }\n",
       "\n",
       "    .dataframe thead th {\n",
       "        text-align: right;\n",
       "    }\n",
       "</style>\n",
       "<table border=\"1\" class=\"dataframe\">\n",
       "  <thead>\n",
       "    <tr style=\"text-align: right;\">\n",
       "      <th></th>\n",
       "      <th>ride_id</th>\n",
       "      <th>start_time</th>\n",
       "      <th>duration_minutes</th>\n",
       "      <th>end_time</th>\n",
       "      <th>start_zone</th>\n",
       "      <th>end_zone</th>\n",
       "      <th>distance_km</th>\n",
       "      <th>user_type</th>\n",
       "      <th>day_of_week</th>\n",
       "      <th>hour</th>\n",
       "    </tr>\n",
       "  </thead>\n",
       "  <tbody>\n",
       "    <tr>\n",
       "      <th>0</th>\n",
       "      <td>c05c91f9-5e61-4e99-80d1-04a88a1892c5</td>\n",
       "      <td>2024-06-01 00:00:00</td>\n",
       "      <td>9</td>\n",
       "      <td>2024-06-01 00:09:00</td>\n",
       "      <td>Bromma</td>\n",
       "      <td>Bromma</td>\n",
       "      <td>1.55</td>\n",
       "      <td>subscriber</td>\n",
       "      <td>Saturday</td>\n",
       "      <td>0</td>\n",
       "    </tr>\n",
       "    <tr>\n",
       "      <th>1</th>\n",
       "      <td>93ac60a1-83ee-4086-b120-442415c223c9</td>\n",
       "      <td>2024-06-01 00:01:00</td>\n",
       "      <td>22</td>\n",
       "      <td>2024-06-01 00:23:00</td>\n",
       "      <td>Enskede</td>\n",
       "      <td>Vasastan</td>\n",
       "      <td>3.95</td>\n",
       "      <td>subscriber</td>\n",
       "      <td>Saturday</td>\n",
       "      <td>0</td>\n",
       "    </tr>\n",
       "    <tr>\n",
       "      <th>2</th>\n",
       "      <td>ec883c19-440f-4967-9988-b04689b6c324</td>\n",
       "      <td>2024-06-01 00:02:00</td>\n",
       "      <td>17</td>\n",
       "      <td>2024-06-01 00:19:00</td>\n",
       "      <td>Norrmalm</td>\n",
       "      <td>Hägersten</td>\n",
       "      <td>2.29</td>\n",
       "      <td>subscriber</td>\n",
       "      <td>Saturday</td>\n",
       "      <td>0</td>\n",
       "    </tr>\n",
       "    <tr>\n",
       "      <th>3</th>\n",
       "      <td>2304f573-006d-4092-bf30-ef4ff1d124e0</td>\n",
       "      <td>2024-06-01 00:03:00</td>\n",
       "      <td>13</td>\n",
       "      <td>2024-06-01 00:16:00</td>\n",
       "      <td>Norrmalm</td>\n",
       "      <td>Södermalm</td>\n",
       "      <td>2.28</td>\n",
       "      <td>casual</td>\n",
       "      <td>Saturday</td>\n",
       "      <td>0</td>\n",
       "    </tr>\n",
       "    <tr>\n",
       "      <th>4</th>\n",
       "      <td>e05527b1-425f-40ee-a1ad-1d7027aa11f6</td>\n",
       "      <td>2024-06-01 00:04:00</td>\n",
       "      <td>10</td>\n",
       "      <td>2024-06-01 00:14:00</td>\n",
       "      <td>Östermalm</td>\n",
       "      <td>Vasastan</td>\n",
       "      <td>2.61</td>\n",
       "      <td>subscriber</td>\n",
       "      <td>Saturday</td>\n",
       "      <td>0</td>\n",
       "    </tr>\n",
       "  </tbody>\n",
       "</table>\n",
       "</div>"
      ],
      "text/plain": [
       "                                ride_id           start_time  \\\n",
       "0  c05c91f9-5e61-4e99-80d1-04a88a1892c5  2024-06-01 00:00:00   \n",
       "1  93ac60a1-83ee-4086-b120-442415c223c9  2024-06-01 00:01:00   \n",
       "2  ec883c19-440f-4967-9988-b04689b6c324  2024-06-01 00:02:00   \n",
       "3  2304f573-006d-4092-bf30-ef4ff1d124e0  2024-06-01 00:03:00   \n",
       "4  e05527b1-425f-40ee-a1ad-1d7027aa11f6  2024-06-01 00:04:00   \n",
       "\n",
       "   duration_minutes             end_time start_zone   end_zone  distance_km  \\\n",
       "0                 9  2024-06-01 00:09:00     Bromma     Bromma         1.55   \n",
       "1                22  2024-06-01 00:23:00    Enskede   Vasastan         3.95   \n",
       "2                17  2024-06-01 00:19:00   Norrmalm  Hägersten         2.29   \n",
       "3                13  2024-06-01 00:16:00   Norrmalm  Södermalm         2.28   \n",
       "4                10  2024-06-01 00:14:00  Östermalm   Vasastan         2.61   \n",
       "\n",
       "    user_type day_of_week  hour  \n",
       "0  subscriber    Saturday     0  \n",
       "1  subscriber    Saturday     0  \n",
       "2  subscriber    Saturday     0  \n",
       "3      casual    Saturday     0  \n",
       "4  subscriber    Saturday     0  "
      ]
     },
     "execution_count": 2,
     "metadata": {},
     "output_type": "execute_result"
    }
   ],
   "source": [
    "# --------------------------------------------------\n",
    "# 1️Setup & Load\n",
    "# --------------------------------------------------\n",
    "\n",
    "import pandas as pd\n",
    "import numpy as np\n",
    "import seaborn as sns\n",
    "import matplotlib.pyplot as plt\n",
    "\n",
    "# Load the dataset\n",
    "df = pd.read_csv(r\"C:\\Users\\Sinah\\OneDrive\\Email attachments\\Desktop\\projects\\voi-micromobility-dashboard\\data\\voi_rides_stockholm.csv\")\n",
    "\n",
    "# Preview\n",
    "print(df.shape)\n",
    "df.head()"
   ]
  },
  {
   "cell_type": "code",
   "execution_count": null,
   "id": "19691562",
   "metadata": {},
   "outputs": [],
   "source": [
    "# --------------------------------------------------\n",
    "# 2️Basic EDA\n",
    "# --------------------------------------------------\n",
    "\n",
    "# Check nulls\n",
    "df.info()\n",
    "df.isnull().sum()\n",
    "\n",
    "# Basic stats\n",
    "df.describe()\n",
    "\n",
    "# Trip duration distribution\n",
    "sns.histplot(df['duration_minutes'], bins=20, kde=True)\n",
    "plt.title(\"Trip Duration (minutes)\")\n",
    "\n",
    "# Rides by start zone\n",
    "df['start_zone'].value_counts().plot(kind='barh')\n",
    "plt.title(\"Trips by Start Zone\")\n",
    "plt.xlabel(\"Trip Count\")\n",
    "\n",
    "# Rides by hour of day\n",
    "sns.countplot(data=df, x=\"hour\")\n",
    "plt.title(\"Trips by Hour\")\n"
   ]
  },
  {
   "cell_type": "code",
   "execution_count": 4,
   "id": "0a94033f",
   "metadata": {},
   "outputs": [
    {
     "data": {
      "text/plain": [
       "user_type\n",
       "casual        12.038840\n",
       "subscriber    12.008562\n",
       "Name: speed_kmph, dtype: float64"
      ]
     },
     "execution_count": 4,
     "metadata": {},
     "output_type": "execute_result"
    }
   ],
   "source": [
    "# --------------------------------------------------\n",
    "# 3️ Feature Engineering\n",
    "# --------------------------------------------------\n",
    "\n",
    "# Trip speed estimate\n",
    "df['speed_kmph'] = df['distance_km'] / (df['duration_minutes'] / 60)\n",
    "\n",
    "# Flag peak hours (7–9 AM, 4–7 PM)\n",
    "df['is_peak_hour'] = df['hour'].apply(lambda x: 1 if (7 <= x <= 9) or (16 <= x <= 19) else 0)\n",
    "\n",
    "# Example: Average speed by user type\n",
    "df.groupby('user_type')['speed_kmph'].mean()\n"
   ]
  },
  {
   "cell_type": "code",
   "execution_count": 5,
   "id": "d10598ad",
   "metadata": {},
   "outputs": [
    {
     "name": "stdout",
     "output_type": "stream",
     "text": [
      "Cleaned file saved as voi_rides_cleaned.csv\n"
     ]
    }
   ],
   "source": [
    "# --------------------------------------------------\n",
    "# 4️⃣ Save Clean Version for Tableau\n",
    "# --------------------------------------------------\n",
    "\n",
    "df.to_csv(\"voi_rides_cleaned.csv\", index=False)\n",
    "print(\"Cleaned file saved as voi_rides_cleaned.csv\")\n"
   ]
  }
 ],
 "metadata": {
  "kernelspec": {
   "display_name": "Python 3",
   "language": "python",
   "name": "python3"
  },
  "language_info": {
   "codemirror_mode": {
    "name": "ipython",
    "version": 3
   },
   "file_extension": ".py",
   "mimetype": "text/x-python",
   "name": "python",
   "nbconvert_exporter": "python",
   "pygments_lexer": "ipython3",
   "version": "3.12.2"
  }
 },
 "nbformat": 4,
 "nbformat_minor": 5
}
